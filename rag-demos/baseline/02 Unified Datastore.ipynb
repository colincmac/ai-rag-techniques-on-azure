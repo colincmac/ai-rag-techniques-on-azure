{
 "cells": [
  {
   "cell_type": "markdown",
   "metadata": {},
   "source": [
    "# CosmosDB as a single source"
   ]
  },
  {
   "cell_type": "markdown",
   "metadata": {},
   "source": [
    "# Prereqs\n"
   ]
  },
  {
   "cell_type": "code",
   "execution_count": 1,
   "metadata": {
    "dotnet_interactive": {
     "language": "csharp"
    },
    "polyglot_notebook": {
     "kernelName": "csharp"
    },
    "vscode": {
     "languageId": "polyglot-notebook"
    }
   },
   "outputs": [
    {
     "data": {
      "text/html": [
       "<div><div></div><div></div><div><strong>Installed Packages</strong><ul><li><span>Azure.AI.OpenAI, 2.0.0-beta.3</span></li><li><span>Azure.Identity, 1.12.0</span></li><li><span>Azure.Search.Documents, 11.6.0</span></li><li><span>CsvHelper, 33.0.1</span></li><li><span>Microsoft.Azure.Cosmos, 3.44.0-preview.0</span></li><li><span>Microsoft.Data.Analysis, 0.21.0</span></li><li><span>System.Linq.Async, 6.0.1</span></li></ul></div></div>"
      ]
     },
     "metadata": {},
     "output_type": "display_data"
    },
    {
     "data": {
      "text/plain": [
       "Loading extensions from `C:\\Users\\cmccullough\\.nuget\\packages\\microsoft.data.analysis\\0.21.0\\interactive-extensions\\dotnet\\Microsoft.Data.Analysis.Interactive.dll`"
      ]
     },
     "metadata": {},
     "output_type": "display_data"
    },
    {
     "data": {
      "text/html": [
       "<div><div></div><div></div><div><strong>Installed Packages</strong><ul><li><span>Azure.Monitor.OpenTelemetry.Exporter, 1.3.0</span></li><li><span>Microsoft.ML.Tokenizers, 0.22.0-preview.24378.1</span></li><li><span>Microsoft.SemanticKernel, 1.19.0</span></li><li><span>Microsoft.SemanticKernel.Connectors.AzureCosmosDBNoSQL, 1.19.0-alpha</span></li><li><span>Microsoft.SemanticKernel.Connectors.OpenAI, 1.19.0</span></li><li><span>Microsoft.SemanticKernel.Planners.OpenAI, 1.19.0-preview</span></li></ul></div></div>"
      ]
     },
     "metadata": {},
     "output_type": "display_data"
    }
   ],
   "source": [
    "#!import code/Setup.cs\n"
   ]
  },
  {
   "cell_type": "markdown",
   "metadata": {},
   "source": [
    "# Vector Store Setup"
   ]
  },
  {
   "cell_type": "markdown",
   "metadata": {},
   "source": [
    "## Database Configuration: Overview\n"
   ]
  },
  {
   "cell_type": "markdown",
   "metadata": {},
   "source": [
    "### **Understand Index Type, Vector Data Type, and Distance Functions**"
   ]
  },
  {
   "cell_type": "markdown",
   "metadata": {},
   "source": [
    "#### **`Vector Index Type`**\n",
    "\n",
    "This option determines how vectors are indexed within Cosmos DB to optimize search performance.\n",
    "\n",
    "- **`flat` Index Type**: Use for low-dimensional, exact searches on smaller datasets.\n",
    "- **`quantizedFlat` Index Type**: Choose when you need to balance performance and storage with acceptable accuracy loss in high-dimensional data.\n",
    "- **`diskANN` Index Type**: Opt for large-scale, high-dimensional datasets where approximate searches suffice, and speed is critical.\n",
    "\n",
    "<details>\n",
    "<summary>\n",
    "Options\n",
    "</summary>\n",
    "\n",
    "- **`flat`**: Stores vectors alongside other indexed properties without additional indexing structures. Supports up to **505 dimensions**.\n",
    "\n",
    "  **When to Use:**\n",
    "\n",
    "  - **Low-dimensional data**: Ideal for applications with vectors up to 505 dimensions.\n",
    "  - **Exact search requirements**: When you need precise search results.\n",
    "  - **Small to medium datasets**: Efficient for datasets where the index size won't become a bottleneck.\n",
    "\n",
    "    **Real-World Scenario:**\n",
    "\n",
    "    - **Customer Segmentation**: A retail company uses customer feature vectors (age, income, purchase history) with dimensions well below 505 to segment customers. Exact matches are important for targeted marketing campaigns.\n",
    "\n",
    "- **`quantizedFlat`**: Compresses (quantizes) vectors before indexing, improving performance at the cost of some accuracy. Supports up to **4096 dimensions**.\n",
    "\n",
    "  **When to Use:**\n",
    "\n",
    "  - **High-dimensional data with storage constraints**: Suitable for vectors up to 4096 dimensions where storage efficiency is important.\n",
    "  - **Performance-critical applications**: When reduced latency and higher throughput are needed.\n",
    "  - **Acceptable accuracy trade-off**: Minor losses in accuracy are acceptable for performance gains.\n",
    "\n",
    "    **Real-World Scenario:**\n",
    "\n",
    "    - **Mobile Image Recognition**: An app recognizes objects using high-dimensional image embeddings. Quantization reduces the storage footprint and improves search speed, crucial for mobile devices with limited resources.\n",
    "\n",
    "- **`diskANN`**: Utilizes the DiskANN algorithm for approximate nearest neighbor searches, optimized for speed and efficiency. Supports up to **4096 dimensions**.\n",
    "\n",
    "  **When to Use:**\n",
    "\n",
    "  - **Large-scale, high-dimensional data**: Best for big datasets where quick approximate searches are acceptable.\n",
    "  - **Real-time applications**: When fast response times are critical.\n",
    "  - **Scalability needs**: Suitable for applications expected to grow significantly.\n",
    "\n",
    "  **Real-World Scenario:**\n",
    "\n",
    "  - **Semantic Search Engines**: A search engine indexes millions of documents using embeddings from language models like BERT (768 dimensions). DiskANN allows users to get fast search results by efficiently handling high-dimensional data.\n",
    "</details>\n",
    "\n",
    "---\n",
    "\n",
    "#### **`Vector Data Type`**\n",
    "\n",
    "Specifies the data type of the vector components.\n",
    "\n",
    "- **`float32` Datatype**: Default choice for precision; use when storage is less of a concern.\n",
    "- **`uint8` and `int8` Datatypes**: Use for storage efficiency, particularly when data can be quantized.\n",
    "\n",
    "<details>\n",
    "<summary>Options</summary>\n",
    "\n",
    "- **`float32`** (default): 32-bit floating-point numbers.\n",
    "\n",
    "  **When to Use:**\n",
    "\n",
    "  - **High precision requirements**: Necessary when the application demands precise calculations.\n",
    "  - **Standard ML embeddings**: Most machine learning models output float32 vectors.\n",
    "\n",
    "  **Real-World Scenario:**\n",
    "\n",
    "  - **Scientific Simulations**: In climate modeling, vectors represent complex data where precision is vital for accurate simulations and predictions.\n",
    "\n",
    "- **`uint8`**: 8-bit unsigned integers.\n",
    "\n",
    "  **When to Use:**\n",
    "\n",
    "  - **Memory optimization**: Reduces storage needs when precision can be sacrificed.\n",
    "  - **Quantized models**: When vectors are output from models that already quantize data.\n",
    "\n",
    "  **Real-World Scenario:**\n",
    "\n",
    "  - **Basic Image Features**: Storing color histograms for image retrieval systems, where each bin can be represented with an 8-bit integer.\n",
    "\n",
    "- **`int8`**: 8-bit integer with potentially specialized encoding (interpretation may vary; assuming it's an 8-bit integer with logarithmic encoding).\n",
    "\n",
    "  **When to Use:**\n",
    "\n",
    "  - **Custom quantization schemes**: When using specialized compression techniques that map floating-point values to an 8-bit integer scale.\n",
    "  - **Edge devices**: Ideal for applications on devices with extreme memory limitations.\n",
    "\n",
    "  **Real-World Scenario:**\n",
    "\n",
    "  - **Audio Fingerprinting**: Compressing audio feature vectors for song recognition apps where storage and quick retrieval are essential.\n",
    "</details>\n",
    "\n",
    "---\n",
    "#### **`Dimension Size`**\n",
    "\n",
    "The length of the vectors being indexed. Ranges from 0-4096, default is **1536**.\n",
    "<details>\n",
    "<summary>Options</summary>\n",
    "\n",
    "\n",
    "**When to Consider Lower Dimensions (≤ 505):**\n",
    "\n",
    "  - **Simpler models**: Applications using basic embeddings or feature vectors.\n",
    "  - **Flat index type**: Required when using the `flat` index type due to its dimension limit.\n",
    "\n",
    "  *Real-World Scenario:*\n",
    "\n",
    "  - **Keyword Matching**: Using low-dimensional TF-IDF vectors for document similarity in a content management system.\n",
    "\n",
    "  **When to Consider Higher Dimensions (506 - 4096):**\n",
    "\n",
    "  - **Complex models**: Deep learning applications with high-dimensional embeddings.\n",
    "  - **Advanced search features**: When richer representations of data are necessary for accuracy.\n",
    "\n",
    "  *Real-World Scenario:*\n",
    "\n",
    "  - **Face Recognition**: Using high-dimensional embeddings (e.g., 2048 dimensions) to represent facial features for security systems.\n",
    "</details>\n",
    "\n",
    "---\n",
    "\n",
    "#### **`Distance Function`**\n",
    "\n",
    "Determines how similarity between vectors is calculated. Select based on the nature of similarity in your application—`cosine` for orientation, `dot product` when magnitude matters, and `euclidean` for spatial relevance.\n",
    "\n",
    "<details>\n",
    "<summary>Options</summary>\n",
    "\n",
    "- **`cosine`**: Measures the cosine of the angle between vectors.\n",
    "\n",
    "  **When to Use:**\n",
    "\n",
    "  - **Orientation-focused similarity**: When the magnitude is less important than the direction.\n",
    "  - **Normalized data**: Ideal when vectors are normalized to unit length.\n",
    "\n",
    "  **Real-World Scenario:**\n",
    "\n",
    "  - **Document Similarity**: In text analytics, comparing documents based on topic similarity where word counts are normalized.\n",
    "\n",
    "- **`dot product`**: Computes the scalar product of two vectors.\n",
    "\n",
    "  **When to Use:**\n",
    "\n",
    "  - **Magnitude matters**: When both direction and magnitude are significant.\n",
    "  - **Machine learning models**: Often used in recommendation systems where strength of preferences is important.\n",
    "\n",
    "  **Real-World Scenario:**\n",
    "\n",
    "  - **Personalized Recommendations**: Matching users to products by calculating the dot product of user and item embeddings in a collaborative filtering system.\n",
    "\n",
    "- **`euclidean`**: Calculates the straight-line distance between vectors.\n",
    "\n",
    "  **When to Use:**\n",
    "\n",
    "  - **Spatial distance relevance**: When physical distance correlates with similarity.\n",
    "  - **High-dimensional data**: Suitable for embeddings where both magnitude and direction impact similarity.\n",
    "\n",
    "  **Real-World Scenario:**\n",
    "\n",
    "  - **Anomaly Detection**: Identifying outliers in network traffic patterns by measuring Euclidean distances in feature space.\n",
    "\n",
    "---"
   ]
  },
  {
   "cell_type": "markdown",
   "metadata": {},
   "source": [
    "### **Option Combinations and Preferred Use-Cases**"
   ]
  },
  {
   "cell_type": "markdown",
   "metadata": {},
   "source": [
    "\n",
    "\n",
    "#### **Combination 1: Low-Dimensional, Exact Searches**\n",
    "\n",
    "- **`vectorIndexType`**: `flat`\n",
    "- **`datatype`**: `float32`\n",
    "- **`dimensions`**: ≤ 505\n",
    "- **`distanceFunction`**: `cosine`\n",
    "\n",
    "**Real-World Scenario:**\n",
    "\n",
    "- **Small-Scale Text Classification**: A startup builds a news categorization tool using word embeddings (300 dimensions). Exact cosine similarity searches ensure accurate article tagging without the overhead of approximate methods.\n",
    "\n",
    "---\n",
    "\n",
    "#### **Combination 2: High-Dimensional, Performance-Critical Applications**\n",
    "\n",
    "- **`vectorIndexType`**: `diskANN`\n",
    "- **`datatype`**: `float32`\n",
    "- **`dimensions`**: 768 - 1536\n",
    "- **`distanceFunction`**: `cosine` or `dot product`\n",
    "\n",
    "**Real-World Scenario:**\n",
    "\n",
    "- **Real-Time Recommendations**: A streaming service uses user and content embeddings (1024 dimensions) to provide instantaneous movie recommendations. DiskANN accelerates search times, offering a smooth user experience despite the large dataset.\n",
    "\n",
    "---\n",
    "\n",
    "#### **Combination 3: Storage-Efficient High-Dimensional Data**\n",
    "\n",
    "- **`vectorIndexType`**: `quantizedFlat`\n",
    "- **`datatype`**: `uint8` or `int8`\n",
    "- **`dimensions`**: 2048\n",
    "- **`distanceFunction`**: `cosine`\n",
    "\n",
    "**Real-World Scenario:**\n",
    "\n",
    "- **Mobile Visual Search**: An app allows users to search for products by uploading photos. High-dimensional image embeddings are quantized to fit the storage constraints of mobile devices, and approximate searches provide quick results.\n",
    "\n",
    "---\n",
    "\n",
    "#### **Combination 4: Precision-Critical Scientific Computing**\n",
    "\n",
    "- **`vectorIndexType`**: `flat`\n",
    "- **`datatype`**: `float32`\n",
    "- **`dimensions`**: 4096\n",
    "- **`distanceFunction`**: `euclidean`\n",
    "\n",
    "**Real-World Scenario:**\n",
    "\n",
    "- **Genomic Data Analysis**: Researchers analyze genetic sequences represented as high-dimensional vectors. Precise Euclidean distance calculations are essential for identifying genetic similarities and mutations.\n",
    "\n",
    "---\n",
    "\n",
    "#### **Combination 5: Medium-Dimensional Data with Storage Constraints**\n",
    "\n",
    "- **`vectorIndexType`**: `quantizedFlat`\n",
    "- **`datatype`**: `uint8`\n",
    "- **`dimensions`**: 500\n",
    "- **`distanceFunction`**: `dot product`\n",
    "\n",
    "**Real-World Scenario:**\n",
    "\n",
    "- **IoT Sensor Data**: A network of sensors generates medium-dimensional vectors representing environmental data. Quantization reduces storage and transmission costs, and dot product calculations help in identifying patterns and anomalies efficiently."
   ]
  },
  {
   "cell_type": "markdown",
   "metadata": {},
   "source": [
    "## Database Configuration: Implementation"
   ]
  },
  {
   "cell_type": "markdown",
   "metadata": {},
   "source": [
    "### Setup Data Models"
   ]
  },
  {
   "cell_type": "code",
   "execution_count": 3,
   "metadata": {
    "dotnet_interactive": {
     "language": "csharp"
    },
    "polyglot_notebook": {
     "kernelName": "csharp"
    },
    "vscode": {
     "languageId": "polyglot-notebook"
    }
   },
   "outputs": [],
   "source": [
    "using Microsoft.Azure.Cosmos;\n",
    "using Microsoft.SemanticKernel.Connectors.AzureCosmosDBNoSQL;\n",
    "using Microsoft.SemanticKernel.Data;\n",
    "using IndexKind = Microsoft.Azure.Cosmos.IndexKind;\n",
    "using System.Reflection;\n",
    "using System.Text.Json.Serialization;\n",
    "using Azure.Core.Serialization;\n",
    "using Container = Microsoft.Azure.Cosmos.Container;\n",
    "\n",
    "// public record 10KDocument(\n",
    "//     [property: VectorStoreRecordKey] string HotelId,\n",
    "//     [property: VectorStoreRecordData] string HotelName,\n",
    "//     [property: VectorStoreRecordData] string Description,\n",
    "//     [property: VectorStoreRecordVector(Dimensions: 4, IndexKind: IndexKind.Hash, DistanceFunction: DistanceFunction.CosineSimilarity), JsonPropertyName(\"description_embeddings\")] ReadOnlyMemory<float>? DescriptionEmbeddings);\n",
    "\n",
    "\n",
    "public record PartitionedEntity(string PartitionKey, string Type){\n",
    "\n",
    "    [JsonConstructor]\n",
    "    public PartitionedEntity(string PartitionKey, string Type, string Id): this(PartitionKey, Type)\n",
    "    {\n",
    "        this.PartitionKey = PartitionKey;\n",
    "        this.Type = Type;\n",
    "        this.Id = Id;\n",
    "    }\n",
    "    public string Id { get; set; } = null;\n",
    "    public string SourceUri { get; set; } = string.Empty;\n",
    "};\n",
    "\n",
    "public record CompanyOfficer(\n",
    "    int CompanyCIK,\n",
    "    string FirstName,\n",
    "    string LastName,\n",
    "    int? Age,\n",
    "    string Title,\n",
    "    int? YearBorn,\n",
    "    long TotalPay\n",
    "): PartitionedEntity(CompanyCIK.ToString(), \"CompanyOfficer\", $\"{CompanyCIK}_{FirstName + LastName}\");\n",
    "\n",
    "public record BasicCompanyInfo (\n",
    "    string Address1,\n",
    "    string City,\n",
    "    string State,\n",
    "    string Zip,\n",
    "    string Country,\n",
    "    string Phone,\n",
    "    string Website,\n",
    "    string Industry,\n",
    "    string Sector,\n",
    "    string LongBusinessSummary,\n",
    "    ICollection<CompanyOfficer> CompanyOfficers,\n",
    "    string IrWebsite,\n",
    "    string Exchange,\n",
    "    string QuoteType,\n",
    "    string TickerSymbol,\n",
    "    string UnderlyingSymbol,\n",
    "    string ShortName,\n",
    "    string SecName,\n",
    "    int CIK,\n",
    "    string PrimaryExchange,\n",
    "    ICollection<string> AssociatedCusips\n",
    "): PartitionedEntity(PartitionKey: CIK.ToString(), Type: \"CompanyInfo\", Id: CIK.ToString());\n",
    "\n",
    "var Form10KSections = new Dictionary<string, string>\n",
    "{\n",
    "    { \"item1\", \"Business: requires a description of the company’s business, including its main products and services, what subsidiaries it owns, and what markets it operates in\" },\n",
    "    { \"item1a\", \"Risk Factors: includes information about the most significant risks that apply to the company or to its securities\" },\n",
    "    { \"item1b\", \"Unresolved Staff Comments: requires the company to explain certain comments it has received from the SEC staff on previously filed reports that have not been resolved after an extended period of time\" },\n",
    "    { \"item2\", \"Properties: includes information about the company’s significant properties, such as principal plants, mines and other materially important physical properties\" },\n",
    "    { \"item3\", \"Legal Proceedings: requires the company to include information about significant pending lawsuits or other legal proceedings, other than ordinary litigation\" },\n",
    "    { \"item7\", \"Management’s Discussion and Analysis of Financial Condition and Results of Operations (MD&A): gives the company’s perspective on the business results of the past financial year. This section, known as the MD&A for short, allows company management to tell its story in its own words\" },\n",
    "    { \"item7a\", \"Quantitative and Qualitative Disclosures About Market Risk: requires information about the company’s exposure to market risk, such as interest rate risk, foreign currency exchange risk, commodity price risk or equity price risk\" },\n",
    "    { \"item8\", \"Financial Statements and Supplementary Data: requires the company’s audited financial statements\" },\n",
    "    { \"item10\", \"Directors, Executive Officers and Corporate Governance: requires information about the background and experience of the company’s directors and executive officers, the company’s code of ethics, and certain qualifications for directors and committees of the board of directors\" },\n",
    "    { \"item11\", \"Executive Compensation: includes detailed disclosure about the company’s compensation policies and programs and how much compensation was paid to the top executive officers of the company in the past year\" },\n",
    "    { \"item15\", \"Exhibits, Financial Statement Schedules: Many exhibits are required, including documents such as the company’s bylaws, copies of its material contracts, and a list of the company’s subsidiaries\" }\n",
    "};\n",
    "public record SecForm10KSection(int CIK, DateTime FilingDate, string SectionName, string SectionShortName, string SectionText, ReadOnlyMemory<float> ContentEmbedding): PartitionedEntity(CIK.ToString(), \"10-K\", $\"{CIK}_{FilingDate}_{SectionName}\");\n",
    "public record SecForm13FHolding(int CIK, string ManagerName, string SecurityName, int Shares, int Value, string SecurityType, string Cusip, DateTime ReportedDate): PartitionedEntity(Cusip, \"13F-HR\", $\"{Cusip}_{ManagerName}\");\n",
    "public record SecForm13D(int CIK, string ReportingPerson, DateTime FilingDate, string Description): PartitionedEntity(CIK.ToString(), \"13D\");\n",
    "\n",
    "public record DailyMarketData(string Symbol, DateTime Date, float Open, float High, float Low, float Close, long Volume): PartitionedEntity(Symbol, \"DailyMarketData\");\n",
    "public record NewsArticle(string Headline, string ArticleText, string SourceName, string Uri, DateTime PublishDate): PartitionedEntity(SourceName, \"NewsArticle\");\n",
    "public class Todo \n",
    "{\n",
    "    public string Title { get; set; }\n",
    "    public bool IsDone { get; set; }\n",
    "    public int Id { get; set; }\n",
    "    public string PartitionKey { get; set; }\n",
    "\n",
    "    public string Type { get; set; }\n",
    "\n",
    "}\n",
    "public class CosmosWrapper\n",
    "{\n",
    "    private CosmosNoSqlService CosmosService;\n",
    "    public Database DatabaseClient;\n",
    "    public const string DEFAULT_PARTITION_KEY_PATH = \"/PartitionKey\";\n",
    "\n",
    "    public CosmosWrapper()\n",
    "    {\n",
    "        this.CosmosService = new CosmosNoSqlService();\n",
    "        this.DatabaseClient = this.CosmosService.databaseClient;\n",
    "    }\n",
    "\n",
    "    public async Task<Container> GetOrCreateContainer(string containerName)\n",
    "    {   var containerProperties = new ContainerProperties(containerName, DEFAULT_PARTITION_KEY_PATH){\n",
    "            IndexingPolicy = new IndexingPolicy(){\n",
    "                IncludedPaths = new Collection<IncludedPath>(){\n",
    "                    new IncludedPath(){\n",
    "                        Path = \"/*\"\n",
    "                    }\n",
    "                },\n",
    "                ExcludedPaths = new Collection<ExcludedPath>(){\n",
    "                    new ExcludedPath(){\n",
    "                        Path = \"/\\\"_etag\\\"/?\"\n",
    "                    }\n",
    "                }\n",
    "            }\n",
    "        };\n",
    "        var c = await this.DatabaseClient.CreateContainerIfNotExistsAsync(containerProperties);\n",
    "        return c.Container;\n",
    "    }\n",
    "}\n",
    "\n"
   ]
  },
  {
   "cell_type": "code",
   "execution_count": null,
   "metadata": {
    "vscode": {
     "languageId": "polyglot-notebook"
    }
   },
   "outputs": [],
   "source": []
  },
  {
   "cell_type": "markdown",
   "metadata": {},
   "source": [
    "# Semantic Search on Cosmos DB"
   ]
  },
  {
   "cell_type": "markdown",
   "metadata": {},
   "source": [
    "# Structured Database Copilot\n",
    "NL2SQL - Database query generation\n",
    "\n",
    "### Considerations\n",
    "- Usually good at building most of the database query, however it needs prompt tuning or native functions to improve the where clause.\n",
    "\n",
    "**Example User Stories**\n",
    "- I have application monitoring or metric data that I want to derive insights from. \n",
    "- I want to chat over the entire corpus of Service Now or other ICM support ticket information"
   ]
  }
 ],
 "metadata": {
  "kernelspec": {
   "display_name": ".NET (C#)",
   "language": "C#",
   "name": ".net-csharp"
  },
  "language_info": {
   "name": "python"
  },
  "polyglot_notebook": {
   "kernelInfo": {
    "defaultKernelName": "csharp",
    "items": [
     {
      "aliases": [],
      "name": "csharp"
     }
    ]
   }
  }
 },
 "nbformat": 4,
 "nbformat_minor": 2
}
