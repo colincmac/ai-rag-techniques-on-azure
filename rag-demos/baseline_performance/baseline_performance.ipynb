{
 "cells": [
  {
   "cell_type": "markdown",
   "metadata": {},
   "source": [
    "# Improving Baseline RAG\n",
    "\n",
    "## Key Topics\n",
    "1. **Observability**\n",
    "    - Observability should be a priority.\n",
    "1. **Chunk Strategy**\n",
    "    - Chunk size and overlap\n",
    "    - Semantic chunking: divide text based on semantic coherence rather than fixed sizes\n",
    "1. **Query Transformations**\n",
    "    - Reform queries to improve retrieval\n",
    "    - Break down complex queries into sub-queries\n",
    "1. **Adaptive Techniques**\n",
    "    - Perform multiple rounds of retrievel to refine and enhance result\n",
    "    - Using user provided feedback of AI generated results\n",
    "1. **Similarity Algorithms** \n",
    "    - Understand the various algorithms for finding similar content.\n",
    "1. **Claim Provenance**\n",
    "    - Methods for linking AI results and source material\n",
    "## Considerations\n"
   ]
  },
  {
   "cell_type": "markdown",
   "metadata": {},
   "source": [
    "# Implementation\n",
    "\n",
    "## Prereqs\n",
    "Deploy the following services:\n",
    "\n",
    "Rename the [env.example.json](env.example.json) file to `env.json` and fill in the values."
   ]
  },
  {
   "cell_type": "markdown",
   "metadata": {},
   "source": [
    "### Load the Semantic Kernel"
   ]
  },
  {
   "cell_type": "code",
   "execution_count": 4,
   "metadata": {
    "dotnet_interactive": {
     "language": "csharp"
    },
    "polyglot_notebook": {
     "kernelName": "csharp"
    },
    "vscode": {
     "languageId": "polyglot-notebook"
    }
   },
   "outputs": [
    {
     "data": {
      "text/html": [
       "<div><div></div><div></div><div><strong>Installed Packages</strong><ul><li><span>Azure.AI.OpenAI, 2.0.0-beta.3</span></li><li><span>Azure.Identity, 1.12.0</span></li><li><span>Azure.Search.Documents, 11.6.0</span></li><li><span>CsvHelper, 33.0.1</span></li><li><span>Microsoft.Azure.Cosmos, 3.42.0</span></li><li><span>Microsoft.Data.Analysis, 0.21.0</span></li><li><span>Microsoft.ML.Tokenizers, 0.22.0-preview.24378.1</span></li><li><span>Microsoft.SemanticKernel, 1.18.1-rc</span></li><li><span>Microsoft.SemanticKernel.Connectors.OpenAI, 1.18.1-rc</span></li><li><span>Microsoft.SemanticKernel.Planners.OpenAI, 1.18.1-preview</span></li><li><span>Microsoft.SemanticKernel.Plugins.Memory, 1.18.1-alpha</span></li><li><span>System.Linq.Async, 6.0.1</span></li></ul></div></div>"
      ]
     },
     "metadata": {},
     "output_type": "display_data"
    }
   ],
   "source": [
    "#!import ../../config/csharp/SemanticKernelSettings.cs \n",
    "#!import ../../config/csharp/AzureAISearchSettings.cs \n",
    "#!import ../../config/csharp/CosmosSqlService.cs \n",
    "\n",
    "#r \"nuget: Azure.AI.OpenAI, 2.0.0-beta.3\"\n",
    "#r \"nuget: Azure.Search.Documents, 11.6.0\"\n",
    "#r \"nuget: Azure.Identity, 1.12.0\"\n",
    "#r \"nuget: Microsoft.Azure.Cosmos, 3.42.0\"\n",
    "#r \"nuget: Microsoft.SemanticKernel, 1.18.1-rc\"\n",
    "#r \"nuget: Microsoft.SemanticKernel.Connectors.OpenAI, 1.18.1-rc\"\n",
    "#r \"nuget: Microsoft.SemanticKernel.Plugins.Memory, 1.18.1-alpha\"\n",
    "#r \"nuget: Microsoft.SemanticKernel.Planners.OpenAI, 1.18.1-preview\"\n",
    "#r \"nuget: Microsoft.ML.Tokenizers, 0.22.0-preview.24378.1\"\n",
    "#r \"nuget: Microsoft.Data.Analysis, 0.21.0\"\n",
    "#r \"nuget: System.Linq.Async, 6.0.1\"\n",
    "#r \"nuget: CsvHelper, 33.0.1\"\n",
    "\n",
    "using System.Globalization;\n",
    "using System.ComponentModel;\n",
    "using Microsoft.Extensions.Logging;\n",
    "using Microsoft.Extensions.Logging.Abstractions;\n",
    "using Microsoft.Extensions.DependencyInjection;\n",
    "using System.Text.Json;\n",
    "using System.Text.Json.Serialization;\n",
    "\n",
    "using Microsoft.Data.Analysis;\n",
    "using CsvHelper;\n",
    "using CsvHelper.Configuration;\n",
    "using Azure;\n",
    "using Azure.Identity;\n",
    "\n",
    "\n",
    "using Azure.Search.Documents;\n",
    "using Azure.Search.Documents.Indexes;\n",
    "using Azure.Search.Documents.Models;\n",
    "using Azure.Search.Documents.Indexes.Models;\n",
    "\n",
    "\n",
    "using Microsoft.SemanticKernel;\n",
    "using Microsoft.SemanticKernel.Connectors.OpenAI;\n",
    "using Microsoft.SemanticKernel.Connectors.AzureOpenAI;\n",
    "using Microsoft.SemanticKernel.Planning;\n",
    "using Microsoft.SemanticKernel.ChatCompletion;\n",
    "using Microsoft.SemanticKernel.Embeddings;\n",
    "using Microsoft.SemanticKernel.Text;\n",
    "using Microsoft.SemanticKernel.Memory;\n",
    "\n",
    "using Microsoft.ML.Tokenizers;\n",
    "using Kernel = Microsoft.SemanticKernel.Kernel;\n",
    "\n",
    "var (textModel, embeddingModel, openAIEndpoint, openAIKey) = SemanticKernelSettings.LoadFromFile(\"env.json\");\n",
    "var (searchEndpoint, searchKey, searchIndex) = AzureAISearchSettings.LoadFromFile(\"env.json\");\n",
    "\n",
    "var promptExecutionSettings = new OpenAIPromptExecutionSettings { ToolCallBehavior = ToolCallBehavior.AutoInvokeKernelFunctions };\n",
    "\n",
    "IKernelBuilder  getDefaultKernelBuilder() => Kernel.CreateBuilder()\n",
    "    .AddAzureOpenAIChatCompletion(\n",
    "        endpoint: openAIEndpoint,\n",
    "        apiKey: openAIKey,\n",
    "        deploymentName: textModel);\n",
    "\n",
    "\n",
    "var searchIndexClient = new SearchClient(new Uri(searchEndpoint), searchIndex, new AzureKeyCredential(searchKey));\n",
    "Tokenizer s_tokenizer = TiktokenTokenizer.CreateForModel(textModel);\n"
   ]
  },
  {
   "cell_type": "markdown",
   "metadata": {},
   "source": [
    "## Semantic Memory\n",
    "\n",
    "**Vector Stores** maps to an instance of a database\n",
    "\n",
    "**Collection** is a collection of records including any index required to query or filter those records\n",
    "\n",
    "**Record** is an individual data entry in the database\n",
    "\n",
    "\n"
   ]
  },
  {
   "cell_type": "markdown",
   "metadata": {},
   "source": [
    "### Basic\n",
    "Most frameworks that build chat interfaces around LLMs integrate the ability to provide a chat history as part of the context. This allows the AI application to build"
   ]
  },
  {
   "cell_type": "code",
   "execution_count": null,
   "metadata": {
    "dotnet_interactive": {
     "language": "csharp"
    },
    "polyglot_notebook": {
     "kernelName": "csharp"
    },
    "vscode": {
     "languageId": "polyglot-notebook"
    }
   },
   "outputs": [],
   "source": [
    "// Disabling Experimental warnings\n",
    "#pragma warning disable SKEXP0010\n",
    "\n",
    "var builder = getDefaultKernelBuilder();\n",
    "builder.AddAzureOpenAITextEmbeddingGeneration(embeddingModel, openAIEndpoint, openAIKey)\n",
    ".Add;\n"
   ]
  },
  {
   "cell_type": "markdown",
   "metadata": {},
   "source": [
    "### Vectors and Embeddings \n",
    "\n",
    "**Aure Databases supporting vector fields are preferred when:**\n",
    "- You have structured or semi-structured operatational data (e.g. chat history, user profiles) in the database\n",
    "- You need a single source of truth and don't want to synchronize separate databases\n",
    "- You need [OLTP](https://learn.microsoft.com/en-us/azure/architecture/data-guide/relational-data/online-transaction-processing) database characteristics, like atomic transactions and consistency\n",
    "\n",
    "  *Databases supporting vector fields*\n",
    "  - Azure Cosmos DB for NoSQL Integrated Vector - - Database with DiskANN\n",
    "  - Azure Cosmos DB for MongoDB Integrated Vector Database\n",
    "  - Azure SQL Database\n",
    "  - Azure PostgreSQL Server pgvector Extension\n",
    "  - Open-source vector databases\n",
    "\n",
    "**Azure AI Search is preferred when:**\n",
    "- You have both structured & unstructured data (e.g. images, PDFs, text) from a variety of data sources\n",
    "- You require search technology such as semantic re-ranking, multi-language support, hybrid text/vector search, etc.\n",
    "- The consuming application requires a search engine like experience"
   ]
  },
  {
   "cell_type": "code",
   "execution_count": 1,
   "metadata": {
    "dotnet_interactive": {
     "language": "csharp"
    },
    "polyglot_notebook": {
     "kernelName": "csharp"
    },
    "vscode": {
     "languageId": "polyglot-notebook"
    }
   },
   "outputs": [],
   "source": [
    "// TODO: Example with Azure AI search and Cosmos DB with Vectors\n",
    "\n"
   ]
  },
  {
   "cell_type": "markdown",
   "metadata": {},
   "source": [
    "## Structured Database Copilot\n",
    "When there is structured\n",
    "\n",
    "**Example User Stories**\n",
    "- I have application monitoring or metric data that I want to derive insights from. \n",
    "- I want to chat over the entire corpus of Service Now or other ICM support ticket information"
   ]
  },
  {
   "cell_type": "code",
   "execution_count": null,
   "metadata": {
    "dotnet_interactive": {
     "language": "csharp"
    },
    "polyglot_notebook": {
     "kernelName": "csharp"
    },
    "vscode": {
     "languageId": "polyglot-notebook"
    }
   },
   "outputs": [],
   "source": [
    "\n",
    "\n",
    "public class CosmosCopilot {\n",
    "    private readonly CosmosClient _client;\n",
    "    private readonly Container _container;\n",
    "    private readonly ILogger _logger;\n",
    "\n",
    "    public CosmosCopilot(string connectionString, string databaseName, string containerName) {\n",
    "        _client = new CosmosClient(connectionString);\n",
    "        _container = _client.GetContainer(databaseName, containerName);\n",
    "        _logger = NullLogger.Instance;\n",
    "    }\n",
    "\n",
    "    public CosmosCopilot(string connectionString, string databaseName, string containerName, ILogger logger) {\n",
    "        _client = new CosmosClient(connectionString);\n",
    "        _container = _client.GetContainer(databaseName, containerName);\n",
    "        _logger = logger;\n",
    "    }\n",
    "\n",
    "    public async Task<IEnumerable<T>> QueryAsync<T>(string query) {\n",
    "        var iterator = _container.GetItemQueryIterator<T>(query);\n",
    "        var results = new List<T>();\n",
    "        while (iterator.HasMoreResults) {\n",
    "            var response = await iterator.ReadNextAsync();\n",
    "            results.AddRange(response);\n",
    "        }\n",
    "        return results;\n",
    "    }\n",
    "\n",
    "    public async Task<IEnumerable<T>> QueryAsync<T>(QueryDefinition query) {\n",
    "        var iterator = _container.GetItemQueryIterator<T>(query);\n",
    "        var results = new List<T>();\n",
    "        while (iterator.HasMoreResults) {\n",
    "            var response = await iterator.ReadNextAsync();\n",
    "            results.AddRange(response);\n",
    "        }\n",
    "        return results;\n",
    "    }\n",
    "\n",
    "    public async Task<T> GetItemAsync<T>(string partitionKey, string id) {\n",
    "        try {\n",
    "            var response = await _container.ReadItemAsync<T>(id, new PartitionKey(partitionKey));\n",
    "            return response.Resource;\n",
    "        } catch (CosmosException e) {\n",
    "            _logger.LogError(e, \"Error reading item from Cosmos DB\");\n",
    "            return default;\n",
    "        }\n",
    "    }\n",
    "\n",
    "    public async Task<T> UpsertItemAsync<T>(T item) {\n",
    "        try {\n",
    "            var response = await _container.UpsertItemAsync(item);\n",
    "            return response.Resource;\n",
    "        } catch (CosmosException e) {\n",
    "            _logger.LogError(e, \"Error upserting item to Cosmos DB\");\n",
    "            return default;\n",
    "        }\n",
    "    }\n",
    "}"
   ]
  },
  {
   "cell_type": "markdown",
   "metadata": {},
   "source": [
    "## Semantic Search Context\n",
    "\n",
    "Security Trimming - https://learn.microsoft.com/en-us/azure/search/search-security-trimming-for-azure-search"
   ]
  },
  {
   "cell_type": "code",
   "execution_count": null,
   "metadata": {
    "dotnet_interactive": {
     "language": "csharp"
    },
    "polyglot_notebook": {
     "kernelName": "csharp"
    },
    "vscode": {
     "languageId": "polyglot-notebook"
    }
   },
   "outputs": [],
   "source": []
  },
  {
   "cell_type": "markdown",
   "metadata": {},
   "source": [
    "## Multiple Indexes"
   ]
  },
  {
   "cell_type": "code",
   "execution_count": null,
   "metadata": {
    "dotnet_interactive": {
     "language": "csharp"
    },
    "polyglot_notebook": {
     "kernelName": "csharp"
    },
    "vscode": {
     "languageId": "polyglot-notebook"
    }
   },
   "outputs": [],
   "source": []
  }
 ],
 "metadata": {
  "kernelspec": {
   "display_name": ".NET (C#)",
   "language": "C#",
   "name": ".net-csharp"
  },
  "language_info": {
   "name": "python"
  },
  "polyglot_notebook": {
   "kernelInfo": {
    "defaultKernelName": "csharp",
    "items": [
     {
      "aliases": [],
      "name": "csharp"
     }
    ]
   }
  }
 },
 "nbformat": 4,
 "nbformat_minor": 2
}
