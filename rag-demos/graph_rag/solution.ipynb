{
 "cells": [
  {
   "cell_type": "markdown",
   "metadata": {},
   "source": [
    "# Graph RAG\n",
    "MapReduce LLM based reasoning solution. This approach consists of partitioning all communities of a given level, using the data for each partition to answer the query with a rating score, and then merge the best answers. Provides better results when requiring corpus level understanding and reasoning.\n",
    "- [GraphRAG Library](https://github.com/microsoft/graphrag)\n",
    "- [GraphRAG Accelerator](https://github.com/Azure-Samples/graphrag-accelerator)\n",
    "- [GraphRAG Arxiv](https://arxiv.org/pdf/2404.16130)\n",
    "\n",
    "⚠️ Warning: GraphRAG indexing can be an expensive operation, please read all of the documentation in the repositories above to understand the process and costs involved, and start small.\n",
    "\n",
    "## Key Topics\n",
    "1. **Local, Community, and Global:** \n",
    "1. **Claim Provenance:** Drilling into the how the AI generated the answer\n",
    "1. **Noise:** Implementing record-level security around data retreival in conversational\n",
    "1. **Performance:** How to evaluate the performance of retreival techniques and solutions to improve performance.\n",
    "\n",
    "## Considerations\n",
    "- Different than knowledge graphs, which have already built ontologies and topologies\n",
    "s\n",
    "**Why it works**\n",
    "GPT-4 offered a better capability to understand the relationship between entities, to the extent of being able to assign weights to those relationships.\n",
    "\n",
    "**Solves various problems with Baseline RAG**\n",
    "1. Semantic Search\n",
    "  - Fails when answers require piecing together information from more than a few sources or when the queries are abstract (e.g. catch me up on the last two weeks of emails)\n",
    "\n",
    "2. Large context window (e.g. 1 million tokens++)\n",
    "  - Fails when scale of dataset is too large. \"Lost in the middle\" phenonemon (e.g. \"What creatures are discussed in this podcast series?\")\n",
    "\n",
    "**Capabilities**\n",
    "- Works well when the data is tuned to a specific domain. For example, it works well with Support/ICM tickets, news reports.\n",
    "- AI agents that can tune themselves to the dataset domain\n",
    "\n",
    "**Best for certain data and query types**\n",
    "- Time aware global RAG\n",
    "- Able provide heirarchies of subgraphs\n",
    "\n",
    "## User Stories\n",
    "- I need answers to high level, general summarization questions over a large collection of unstructured data.\n",
    "- \n",
    "\n"
   ]
  },
  {
   "cell_type": "markdown",
   "metadata": {},
   "source": [
    "## Strengths\n",
    "\n",
    "\n"
   ]
  },
  {
   "cell_type": "markdown",
   "metadata": {},
   "source": [
    "## Limitations\n",
    "This solution provides great results but has the following limitations:\n",
    "\n",
    "· High latency: It might take up to 30s to get an answer back.\n",
    "\n",
    "· Hallucination: when little information is available about a topic or person in top level (global) summaries."
   ]
  },
  {
   "cell_type": "code",
   "execution_count": null,
   "metadata": {
    "dotnet_interactive": {
     "language": "csharp"
    },
    "polyglot_notebook": {
     "kernelName": "csharp"
    },
    "vscode": {
     "languageId": "polyglot-notebook"
    }
   },
   "outputs": [],
   "source": []
  },
  {
   "cell_type": "markdown",
   "metadata": {},
   "source": [
    "## Potential Improvements\n",
    "- Differentiate between different sources of data"
   ]
  }
 ],
 "metadata": {
  "kernelspec": {
   "display_name": ".NET (C#)",
   "language": "C#",
   "name": ".net-csharp"
  },
  "language_info": {
   "name": "python"
  },
  "polyglot_notebook": {
   "kernelInfo": {
    "defaultKernelName": "csharp",
    "items": [
     {
      "aliases": [],
      "name": "csharp"
     }
    ]
   }
  }
 },
 "nbformat": 4,
 "nbformat_minor": 2
}
