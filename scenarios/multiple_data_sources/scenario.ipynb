{
 "cells": [
  {
   "cell_type": "markdown",
   "metadata": {},
   "source": [
    "# Aggregate Multiple Data Sources\n",
    "\n",
    "There are several ways to integrate data sources with OpenAI and the various AI libraries. Here we're going to provide RAG over multiple data sources through plugins/tools. \n",
    "https://learn.microsoft.com/en-us/semantic-kernel/concepts/plugins/using-data-retrieval-functions-for-rag\n"
   ]
  },
  {
   "cell_type": "markdown",
   "metadata": {},
   "source": [
    "## Status\n",
    "- [X] Notebook Demo\n",
    "- [ ] Documentation\n",
    "- [ ] App Example - csharp\n",
    "- [ ] App Example - python"
   ]
  },
  {
   "cell_type": "markdown",
   "metadata": {},
   "source": [
    "## Reference Documents\n",
    "https://github.com/Azure/azure-cosmos-dotnet-v3\n"
   ]
  },
  {
   "cell_type": "markdown",
   "metadata": {},
   "source": [
    "## Setup\n",
    "1. Rename the [env.example.json](env.example.json) file to `env.json` and fill in the values."
   ]
  },
  {
   "cell_type": "code",
   "execution_count": 98,
   "metadata": {
    "dotnet_interactive": {
     "language": "csharp"
    },
    "polyglot_notebook": {
     "kernelName": "csharp"
    },
    "vscode": {
     "languageId": "polyglot-notebook"
    }
   },
   "outputs": [
    {
     "data": {
      "text/html": [
       "<div><div></div><div></div><div><strong>Installed Packages</strong><ul><li><span>Azure.AI.OpenAI, 2.0.0-beta.3</span></li><li><span>Azure.Identity, 1.12.0</span></li><li><span>Azure.Search.Documents, 11.6.0</span></li><li><span>CsvHelper, 33.0.1</span></li><li><span>Microsoft.Azure.Cosmos, 3.42.0</span></li><li><span>Microsoft.Data.Analysis, 0.21.0</span></li><li><span>Microsoft.SemanticKernel, 1.18.1-rc</span></li><li><span>Microsoft.SemanticKernel.Connectors.OpenAI, 1.18.1-rc</span></li><li><span>Microsoft.SemanticKernel.Connectors.Redis, 1.18.1-alpha</span></li><li><span>Microsoft.SemanticKernel.Planners.OpenAI, 1.18.1-preview</span></li><li><span>System.Linq.Async, 6.0.1</span></li></ul></div></div>"
      ]
     },
     "metadata": {},
     "output_type": "display_data"
    }
   ],
   "source": [
    "#!import ../../config/csharp/SemanticKernelSettings.cs \n",
    "#!import ../../config/csharp/AzureAISearchSettings.cs \n",
    "#!import ../../config/csharp/CosmosSqlService.cs \n",
    "#!import code/IncidentDocument.cs \n",
    "\n",
    "#r \"nuget: Azure.AI.OpenAI, 2.0.0-beta.3\"\n",
    "#r \"nuget: Azure.Search.Documents, 11.6.0\"\n",
    "#r \"nuget: Azure.Identity, 1.12.0\"\n",
    "#r \"nuget: Microsoft.Azure.Cosmos, 3.42.0\"\n",
    "#r \"nuget: Microsoft.SemanticKernel, 1.18.1-rc\"\n",
    "#r \"nuget: Microsoft.SemanticKernel.Connectors.Redis, 1.18.1-alpha\"\n",
    "// #r \"nuget: Microsoft.SemanticKernel.Connectors.AzureCosmosDBNoSQL, 1.18.1-alpha\"\n",
    "#r \"nuget: Microsoft.SemanticKernel.Connectors.OpenAI, 1.18.1-rc\"\n",
    "#r \"nuget: Microsoft.SemanticKernel.Planners.OpenAI, 1.18.1-preview\"\n",
    "#r \"nuget: Microsoft.Data.Analysis, 0.21.0\"\n",
    "#r \"nuget: System.Linq.Async, 6.0.1\"\n",
    "#r \"nuget: CsvHelper, 33.0.1\"\n",
    "\n",
    "using System;\n",
    "using System.Globalization;\n",
    "using System.ComponentModel;\n",
    "using Microsoft.Extensions.Logging;\n",
    "using Microsoft.Extensions.Logging.Abstractions;\n",
    "using Microsoft.Extensions.DependencyInjection;\n",
    "using System.Text.Json;\n",
    "using System.Text.Json.Serialization;\n",
    "\n",
    "using Microsoft.Data.Analysis;\n",
    "using CsvHelper;\n",
    "using CsvHelper.Configuration;\n",
    "using Azure;\n",
    "using Azure.Identity;\n",
    "\n",
    "\n",
    "using Azure.Search.Documents;\n",
    "using Azure.Search.Documents.Indexes;\n",
    "using Azure.Search.Documents.Models;\n",
    "using Azure.Search.Documents.Indexes.Models;\n",
    "using Azure.Search.Documents.Indexes;\n",
    "\n",
    "\n",
    "using Microsoft.SemanticKernel;\n",
    "using Microsoft.SemanticKernel.Connectors.OpenAI;\n",
    "using Microsoft.SemanticKernel.Planning;\n",
    "using Microsoft.SemanticKernel.ChatCompletion;\n",
    "using Microsoft.SemanticKernel.Embeddings;\n",
    "using Kernel = Microsoft.SemanticKernel.Kernel;\n",
    "\n",
    "var (textModel, embeddingModel, openAIEndpoint, openAIKey) = SemanticKernelSettings.LoadFromFile(\"env.json\");\n",
    "var (searchEndpoint, searchKey, searchIndex) = AzureAISearchSettings.LoadFromFile(\"env.json\");\n",
    "\n",
    "var promptExecutionSettings = new OpenAIPromptExecutionSettings { ToolCallBehavior = ToolCallBehavior.AutoInvokeKernelFunctions };\n",
    "\n",
    "var semanticKernel = Kernel.CreateBuilder()\n",
    "    .AddAzureOpenAIChatCompletion(\n",
    "        endpoint: openAIEndpoint,\n",
    "        apiKey: openAIKey,\n",
    "        deploymentName: textModel)\n",
    "    .Build();\n",
    "\n",
    "\n",
    "var searchIndexClient = new SearchClient(new Uri(searchEndpoint), searchIndex, new AzureKeyCredential(searchKey));\n",
    "var cosmosService = CosmosSqlService.CreateFromEnvFile(\"env.json\");\n",
    "\n",
    "var loadIncidentData = false;\n"
   ]
  },
  {
   "cell_type": "code",
   "execution_count": 99,
   "metadata": {
    "dotnet_interactive": {
     "language": "csharp"
    },
    "polyglot_notebook": {
     "kernelName": "csharp"
    },
    "vscode": {
     "languageId": "polyglot-notebook"
    }
   },
   "outputs": [],
   "source": [
    "\n",
    "if(loadIncidentData)\n",
    "{\n",
    "    using(var reader = new StreamReader(\"data/incidents.csv\"))\n",
    "    using(var csv = new CsvReader(\n",
    "        reader: reader, \n",
    "        configuration: new CsvConfiguration(CultureInfo.InvariantCulture)\n",
    "        {\n",
    "            // The document model has an Id property that is set for Cosmos\n",
    "            HeaderValidated = null,\n",
    "            MissingFieldFound = null,\n",
    "        }))    \n",
    "    await foreach (var record in csv.GetRecordsAsync<IncidentDocument>())\n",
    "    {\n",
    "        ItemResponse<IncidentDocument> itemResponse = null;\n",
    "        try\n",
    "        {\n",
    "            itemResponse = await cosmosService.containerClient.CreateItemAsync(record);\n",
    "        }\n",
    "        catch (Exception _)\n",
    "        {\n",
    "            Console.WriteLine($\"Exception {JsonSerializer.Serialize(itemResponse)}.\");\n",
    "        }\n",
    "    }\n",
    "}"
   ]
  },
  {
   "cell_type": "code",
   "execution_count": null,
   "metadata": {
    "dotnet_interactive": {
     "language": "csharp"
    },
    "polyglot_notebook": {
     "kernelName": "csharp"
    },
    "vscode": {
     "languageId": "polyglot-notebook"
    }
   },
   "outputs": [],
   "source": [
    "public interface IPlugin\n",
    "{\n",
    "    string Name { get; }\n",
    "}\n",
    "\n",
    "public class TriagePlugin : IPlugin\n",
    "{\n",
    "    public string Name => \"TriagePlugin\";\n",
    "\n",
    "    public async Task<IPluginResponse> ExecuteAsync(IPluginRequest request, IPluginResponse response)\n",
    "    {\n",
    "        var query = request.Query;\n",
    "        var result = await semanticKernel.ExecuteAsync(query);\n",
    "        return response with { Result = result };\n",
    "    }\n",
    "}"
   ]
  },
  {
   "cell_type": "code",
   "execution_count": 94,
   "metadata": {
    "dotnet_interactive": {
     "language": "csharp"
    },
    "polyglot_notebook": {
     "kernelName": "csharp"
    },
    "vscode": {
     "languageId": "polyglot-notebook"
    }
   },
   "outputs": [
    {
     "ename": "Error",
     "evalue": "(5,40): error CS0246: The type or namespace name 'Configuration' could not be found (are you missing a using directive or an assembly reference?)",
     "output_type": "error",
     "traceback": [
      "(5,40): error CS0246: The type or namespace name 'Configuration' could not be found (are you missing a using directive or an assembly reference?)"
     ]
    }
   ],
   "source": [
    "\n",
    "// Optionally create the Azure Search Index\n",
    "\n",
    "// public class IncidentIndexRecord\n",
    "// {\n",
    "//     public static SearchIndex GetIndex(Configuration configuration)\n",
    "//     {\n",
    "//         const string vectorSearchHnswProfile = \"hnsw-vector-profile\";\n",
    "//         const string vectorSearchExhasutiveKnnProfile = \"myExhaustiveKnnProfile\";\n",
    "//         const string vectorSearchHnswConfig = \"myHnsw\";\n",
    "//         const string vectorSearchExhaustiveKnnConfig = \"myExhaustiveKnn\";\n",
    "//         const string vectorSearchVectorizer = \"myOpenAIVectorizer\";\n",
    "//         const string semanticSearchConfig = \"my-semantic-config\";\n",
    "//         const int modelDimensions = 1536;\n",
    "\n",
    "//         SearchIndex searchIndex = new(configuration.IndexName)\n",
    "//         {\n",
    "//             VectorSearch = new()\n",
    "//             {\n",
    "//                 Profiles =\n",
    "//                 {\n",
    "//                     new VectorSearchProfile(vectorSearchHnswProfile, vectorSearchHnswConfig)\n",
    "//                     {\n",
    "//                         Vectorizer = vectorSearchVectorizer\n",
    "//                     },\n",
    "//                     new VectorSearchProfile(vectorSearchExhasutiveKnnProfile, vectorSearchExhaustiveKnnConfig)\n",
    "//                 },\n",
    "//                 Algorithms =\n",
    "//                 {\n",
    "//                     new HnswAlgorithmConfiguration(vectorSearchHnswConfig),\n",
    "//                     new ExhaustiveKnnAlgorithmConfiguration(vectorSearchExhaustiveKnnConfig)\n",
    "//                 },\n",
    "//                 Vectorizers =\n",
    "//                 {\n",
    "//                     new AzureOpenAIVectorizer(vectorSearchVectorizer)\n",
    "//                     {\n",
    "//                         AzureOpenAIParameters = new AzureOpenAIParameters()\n",
    "//                         {\n",
    "//                             ResourceUri = new Uri(configuration.AzureOpenAIEndpoint),\n",
    "//                             ApiKey = configuration.AzureOpenAIApiKey,\n",
    "//                             DeploymentId = configuration.AzureOpenAIEmbeddingDeployedModel,\n",
    "//                         }\n",
    "//                     }\n",
    "//                 }\n",
    "//             },\n",
    "//             SemanticSearch = new()\n",
    "//             {\n",
    "//                 Configurations =\n",
    "//                 {\n",
    "//                     new SemanticConfiguration(semanticSearchConfig, new()\n",
    "//                     {\n",
    "//                         TitleField = new SemanticField(fieldName: \"title\"),\n",
    "//                         ContentFields =\n",
    "//                         {\n",
    "//                             new SemanticField(fieldName: \"chunk\")\n",
    "//                         },\n",
    "//                     })\n",
    "//                 },\n",
    "//             },\n",
    "//             Fields =\n",
    "//             {\n",
    "//                 new SearchableField(\"parent_id\") { IsFilterable = true, IsSortable = true, IsFacetable = true },\n",
    "//                 new SearchableField(\"chunk_id\") { IsKey = true, IsFilterable = true, IsSortable = true, IsFacetable = true, AnalyzerName = LexicalAnalyzerName.Keyword },\n",
    "//                 new SearchableField(\"title\"),\n",
    "//                 new SearchableField(\"chunk\"),\n",
    "//                 new SearchField(\"vector\", SearchFieldDataType.Collection(SearchFieldDataType.Single))\n",
    "//                 {\n",
    "//                     IsSearchable = true,\n",
    "//                     VectorSearchDimensions = modelDimensions,\n",
    "//                     VectorSearchProfileName = vectorSearchHnswProfile\n",
    "//                 },\n",
    "//                 new SearchableField(\"category\") { IsFilterable = true, IsSortable = true, IsFacetable = true },\n",
    "//             },\n",
    "//         };\n",
    "\n",
    "//         return searchIndex;\n",
    "//     }\n",
    "// }"
   ]
  },
  {
   "cell_type": "markdown",
   "metadata": {},
   "source": [
    "### Semantic Search"
   ]
  },
  {
   "cell_type": "code",
   "execution_count": 76,
   "metadata": {
    "dotnet_interactive": {
     "language": "csharp"
    },
    "polyglot_notebook": {
     "kernelName": "csharp"
    },
    "vscode": {
     "languageId": "polyglot-notebook"
    }
   },
   "outputs": [],
   "source": [
    "// Disabling Experimental warnings\n",
    "#pragma warning disable SKEXP0001\n",
    "\n",
    "public class SemanticSearchPlugin\n",
    "{\n",
    "    private readonly ITextEmbeddingGenerationService _textEmbeddingGenerationService;\n",
    "    private readonly SearchIndexClient _indexClient;\n",
    "\n",
    "    public SemanticSearchPlugin(ITextEmbeddingGenerationService textEmbeddingGenerationService, SearchIndexClient indexClient)\n",
    "    {\n",
    "        _textEmbeddingGenerationService = textEmbeddingGenerationService;\n",
    "        _indexClient = indexClient;\n",
    "    }\n",
    "\n",
    "    [KernelFunction(\"Search\")]\n",
    "    [Description(\"Search for a document similar to the given query.\")]\n",
    "    public async Task<string> SearchAsync(string query)\n",
    "    {\n",
    "        // Convert string query to vector\n",
    "        ReadOnlyMemory<float> embedding = await _textEmbeddingGenerationService.GenerateEmbeddingAsync(query);\n",
    "\n",
    "        // Get client for search operations\n",
    "        SearchClient searchClient = _indexClient.GetSearchClient(\"default-collection\");\n",
    "\n",
    "        // Configure request parameters\n",
    "        VectorizedQuery vectorQuery = new(embedding);\n",
    "        vectorQuery.Fields.Add(\"vector\");\n",
    "\n",
    "        SearchOptions searchOptions = new() { VectorSearch = new() { Queries = { vectorQuery } } };\n",
    "\n",
    "        // Perform search request\n",
    "        var response = await searchClient.SearchAsync<IndexSchema>(searchOptions);\n",
    "\n",
    "        // Collect search results\n",
    "        await foreach (SearchResult<IndexSchema> result in response.Value.GetResultsAsync())\n",
    "        {\n",
    "            return result.Document.Chunk; // Return text from first result\n",
    "        }\n",
    "\n",
    "        return string.Empty;\n",
    "    }\n",
    "\n",
    "    private sealed class IndexSchema\n",
    "    {\n",
    "        [JsonPropertyName(\"chunk\")]\n",
    "        public string Chunk { get; set; }\n",
    "\n",
    "        [JsonPropertyName(\"vector\")]\n",
    "        public ReadOnlyMemory<float> Vector { get; set; }\n",
    "    }\n",
    "}"
   ]
  },
  {
   "cell_type": "markdown",
   "metadata": {},
   "source": [
    "### Classic Search\n",
    "- NL2SQL"
   ]
  },
  {
   "cell_type": "code",
   "execution_count": null,
   "metadata": {
    "dotnet_interactive": {
     "language": "csharp"
    },
    "polyglot_notebook": {
     "kernelName": "csharp"
    },
    "vscode": {
     "languageId": "polyglot-notebook"
    }
   },
   "outputs": [],
   "source": [
    "public class ClassicSearchPlugin\n",
    "{\n",
    "    private readonly Microsoft.Azure.Cosmos.Container _cosmosContainer;\n",
    "\n",
    "    public ClassicSearchPlugin(Microsoft.Azure.Cosmos.Container cosmosContainer)\n",
    "    {\n",
    "        _cosmosContainer = cosmosContainer;\n",
    "    }\n",
    "\n",
    "    [KernelFunction(\"GetCustomerInfo\")]\n",
    "    [Description(\"Retrieve customer information based on the given customer ID.\")]\n",
    "    public async Task<Customer> GetCustomerInfoAsync(string customerId)\n",
    "    {\n",
    "        return await _cosmosContainer.GetCustomerInfoAsync(customerId);\n",
    "    }\n",
    "}"
   ]
  }
 ],
 "metadata": {
  "kernelspec": {
   "display_name": ".NET (C#)",
   "language": "C#",
   "name": ".net-csharp"
  },
  "language_info": {
   "name": "python"
  },
  "polyglot_notebook": {
   "kernelInfo": {
    "defaultKernelName": "csharp",
    "items": [
     {
      "aliases": [],
      "name": "csharp"
     }
    ]
   }
  }
 },
 "nbformat": 4,
 "nbformat_minor": 2
}
